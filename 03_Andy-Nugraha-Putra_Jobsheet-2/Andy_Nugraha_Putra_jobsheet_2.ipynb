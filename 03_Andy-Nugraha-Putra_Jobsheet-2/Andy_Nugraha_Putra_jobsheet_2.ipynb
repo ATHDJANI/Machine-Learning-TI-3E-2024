{
  "cells": [
    {
      "cell_type": "markdown",
      "metadata": {
        "id": "wtyFw3tuM_TI"
      },
      "source": [
        "**Nama : Andy Nugraha Putra <br>\n",
        "Kelas : 3E<br>\n",
        "NIM : 2241720006**"
      ]
    },
    {
      "cell_type": "markdown",
      "metadata": {
        "id": "LhK-KwewOhHS"
      },
      "source": [
        "**Praktikum 1** <br>\n",
        "**Langkah 1 - Load Data**"
      ]
    },
    {
      "cell_type": "code",
      "execution_count": null,
      "metadata": {
        "colab": {
          "base_uri": "https://localhost:8080/",
          "height": 206
        },
        "id": "-wcfeq2PNDdi",
        "outputId": "9e01cfdf-29a5-439d-9546-a381c7c2109b"
      },
      "outputs": [
        {
          "ename": "",
          "evalue": "",
          "output_type": "error",
          "traceback": [
            "\u001b[1;31mRunning cells with 'Python 3.11.1' requires the ipykernel package.\n",
            "\u001b[1;31mRun the following command to install 'ipykernel' into the Python environment. \n",
            "\u001b[1;31mCommand: '\"c:/Users/Andy Nugraha Putra/AppData/Local/Programs/Python/Python311/python.exe\" -m pip install ipykernel -U --user --force-reinstall'"
          ]
        }
      ],
      "source": [
        "# Import library pandas untuk manipulasi data\n",
        "import pandas as pd\n",
        "\n",
        "# Menyimpan nama file CSV dalam variabel 'data'\n",
        "data = 'Titanic-Dataset.csv'\n",
        "\n",
        "# Membaca file CSV dan menyimpannya ke dalam DataFrame 'df'\n",
        "df = pd.read_csv(data)\n",
        "\n",
        "# Menampilkan 5 baris pertama dari DataFrame 'df'\n",
        "df.head()\n"
      ]
    },
    {
      "cell_type": "markdown",
      "metadata": {
        "id": "wUn_rqwRwDk-"
      },
      "source": [
        "Penjelasan : Kode tersebut membaca dataset Titanic menggunakan `pandas`, menyimpannya dalam DataFrame `df`, dan menampilkan lima baris pertama untuk melihat isi data."
      ]
    },
    {
      "cell_type": "code",
      "execution_count": null,
      "metadata": {
        "colab": {
          "base_uri": "https://localhost:8080/",
          "height": 73
        },
        "id": "GMEwkZC5OkGJ",
        "outputId": "a004c388-a849-445d-e102-1fd5d128fcfc"
      },
      "outputs": [
        {
          "ename": "",
          "evalue": "",
          "output_type": "error",
          "traceback": [
            "\u001b[1;31mRunning cells with 'Python 3.11.1' requires the ipykernel package.\n",
            "\u001b[1;31mRun the following command to install 'ipykernel' into the Python environment. \n",
            "\u001b[1;31mCommand: '\"c:/Users/Andy Nugraha Putra/AppData/Local/Programs/Python/Python311/python.exe\" -m pip install ipykernel -U --user --force-reinstall'"
          ]
        }
      ],
      "source": [
        "# Mengimpor modul 'files' dari library Google Colab untuk mengunggah file\n",
        "from google.colab import files\n",
        "\n",
        "# Memunculkan dialog untuk mengunggah file dari komputer lokal ke Google Colab\n",
        "# Setelah file diunggah, file akan disimpan dalam dictionary 'uploaded'\n",
        "uploaded = files.upload()\n"
      ]
    },
    {
      "cell_type": "markdown",
      "metadata": {
        "id": "FVL_W6gEwb9G"
      },
      "source": [
        "Penjelasan : Kode tersebut mengimpor modul `files` dari Google Colab untuk membuka dialog unggah file, kemudian menyimpan file yang diunggah dalam dictionary `uploaded`."
      ]
    },
    {
      "cell_type": "code",
      "execution_count": null,
      "metadata": {
        "colab": {
          "base_uri": "https://localhost:8080/",
          "height": 206
        },
        "id": "BDsMJuiTPxES",
        "outputId": "102b28e3-1984-426d-f925-00690b3c5f47"
      },
      "outputs": [
        {
          "ename": "",
          "evalue": "",
          "output_type": "error",
          "traceback": [
            "\u001b[1;31mRunning cells with 'Python 3.11.1' requires the ipykernel package.\n",
            "\u001b[1;31mRun the following command to install 'ipykernel' into the Python environment. \n",
            "\u001b[1;31mCommand: '\"c:/Users/Andy Nugraha Putra/AppData/Local/Programs/Python/Python311/python.exe\" -m pip install ipykernel -U --user --force-reinstall'"
          ]
        }
      ],
      "source": [
        "# Import pandas untuk manipulasi data\n",
        "import pandas as pd\n",
        "\n",
        "# Import io untuk mengelola aliran data\n",
        "import io\n",
        "\n",
        "# Membaca file CSV yang diunggah sebagai byte stream\n",
        "# 'NamaFile.format' ganti dengan nama file yang diunggah, misalnya 'data.csv'\n",
        "df = pd.read_csv(io.BytesIO(uploaded['Titanic-Dataset.csv']))\n",
        "df.head()\n"
      ]
    },
    {
      "cell_type": "markdown",
      "metadata": {
        "id": "gcvSYk2Hwl6E"
      },
      "source": [
        "Penjelasan : Kode tersebut mengimpor pustaka `pandas` dan `io` untuk manipulasi data dan pengelolaan aliran data. Setelah file CSV diunggah, file tersebut dibaca sebagai byte stream menggunakan `pd.read_csv()` dari `io.BytesIO()`, dan hasilnya disimpan dalam DataFrame `df`. Fungsi `df.head()` kemudian digunakan untuk menampilkan lima baris pertama dari data."
      ]
    },
    {
      "cell_type": "markdown",
      "metadata": {
        "id": "633eO3v-RdNm"
      },
      "source": [
        "**Langkah 2 - Pengecekan Data**"
      ]
    },
    {
      "cell_type": "code",
      "execution_count": null,
      "metadata": {
        "colab": {
          "base_uri": "https://localhost:8080/"
        },
        "id": "0VxIB37fR4Vv",
        "outputId": "28785d6c-7ac5-45f2-a5a0-fbcf9ef3714d"
      },
      "outputs": [
        {
          "ename": "",
          "evalue": "",
          "output_type": "error",
          "traceback": [
            "\u001b[1;31mRunning cells with 'Python 3.11.1' requires the ipykernel package.\n",
            "\u001b[1;31mRun the following command to install 'ipykernel' into the Python environment. \n",
            "\u001b[1;31mCommand: '\"c:/Users/Andy Nugraha Putra/AppData/Local/Programs/Python/Python311/python.exe\" -m pip install ipykernel -U --user --force-reinstall'"
          ]
        }
      ],
      "source": [
        "df.info() # Digunakan untuk  pengecekan informasi mengenai data\n"
      ]
    },
    {
      "cell_type": "markdown",
      "metadata": {
        "id": "IPnGvk6nwrDV"
      },
      "source": [
        "Penjelasan : df.info() untuk menampilkan informasi tentang DataFrame, termasuk jumlah total entri, tipe data di setiap kolom, serta jumlah nilai non-null di setiap kolom. Ini berguna untuk memeriksa struktur data dan mengidentifikasi kemungkinan masalah, seperti nilai yang hilang atau tipe data yang tidak sesuai."
      ]
    },
    {
      "cell_type": "code",
      "execution_count": null,
      "metadata": {
        "colab": {
          "base_uri": "https://localhost:8080/"
        },
        "id": "EzKoJUW_SEW3",
        "outputId": "ae639483-cf25-402f-b78f-3e2f4f92e417"
      },
      "outputs": [
        {
          "ename": "",
          "evalue": "",
          "output_type": "error",
          "traceback": [
            "\u001b[1;31mRunning cells with 'Python 3.11.1' requires the ipykernel package.\n",
            "\u001b[1;31mRun the following command to install 'ipykernel' into the Python environment. \n",
            "\u001b[1;31mCommand: '\"c:/Users/Andy Nugraha Putra/AppData/Local/Programs/Python/Python311/python.exe\" -m pip install ipykernel -U --user --force-reinstall'"
          ]
        }
      ],
      "source": [
        "df.isnull().sum()"
      ]
    },
    {
      "cell_type": "markdown",
      "metadata": {
        "id": "eaiiWcPCwu2w"
      },
      "source": [
        "Penjelasan : Digunakan untuk mengetahui jumlah data yang hilang untuk setiap kolom"
      ]
    },
    {
      "cell_type": "markdown",
      "metadata": {
        "id": "_HccTzePSNx-"
      },
      "source": [
        "**Langkah 3 - Imputasi*"
      ]
    },
    {
      "cell_type": "code",
      "execution_count": null,
      "metadata": {
        "colab": {
          "base_uri": "https://localhost:8080/",
          "height": 206
        },
        "id": "j47xsc9GSRc0",
        "outputId": "1e6c3422-c633-4dae-9f88-2baa8858c29a"
      },
      "outputs": [
        {
          "ename": "",
          "evalue": "",
          "output_type": "error",
          "traceback": [
            "\u001b[1;31mRunning cells with 'Python 3.11.1' requires the ipykernel package.\n",
            "\u001b[1;31mRun the following command to install 'ipykernel' into the Python environment. \n",
            "\u001b[1;31mCommand: '\"c:/Users/Andy Nugraha Putra/AppData/Local/Programs/Python/Python311/python.exe\" -m pip install ipykernel -U --user --force-reinstall'"
          ]
        }
      ],
      "source": [
        "# Mengisi nilai kosong pada kolom 'Age' dengan rata-rata usia\n",
        "# df['Age'].mean() menghitung rata-rata usia\n",
        "# inplace=True memastikan perubahan diterapkan langsung pada DataFrame 'df'\n",
        "df['Age'].fillna(value=df['Age'].mean(), inplace=True)\n",
        "\n",
        "# Mengisi nilai kosong pada kolom 'Cabin' dengan string \"DECK\"\n",
        "# Ini digunakan untuk menggantikan nilai yang hilang di kolom 'Cabin'\n",
        "df['Cabin'].fillna(value=\"DECK\", inplace=True)\n",
        "\n",
        "# Mengisi nilai kosong pada kolom 'Embarked' dengan modus (nilai yang paling sering muncul)\n",
        "# df['Embarked'].mode() mengembalikan modus kolom 'Embarked'\n",
        "# Gantilah 'df['Embarked'].mode' dengan 'df['Embarked'].mode()[0]' untuk mengambil nilai modus yang pertama\n",
        "df['Embarked'].fillna(value=df['Embarked'].mode()[0], inplace=True)\n",
        "\n",
        "df.head()\n"
      ]
    },
    {
      "cell_type": "markdown",
      "metadata": {
        "id": "OxuiNyRjxJ8s"
      },
      "source": [
        "Penjelassan : Kode tersebut melakukan pengisian nilai kosong dalam beberapa kolom DataFrame `df`:\n",
        "\n",
        "1. Mengisi nilai kosong pada kolom `Age` dengan rata-rata usia dari kolom tersebut.\n",
        "2. Mengisi nilai kosong pada kolom `Cabin` dengan string \"DECK\".\n",
        "3. Mengisi nilai kosong pada kolom `Embarked` dengan nilai modus (nilai yang paling sering muncul) dari kolom tersebut.\n",
        "\n",
        "Setelah pengisian nilai kosong, `df.head()` digunakan untuk menampilkan lima baris pertama dari DataFrame untuk memastikan perubahan telah diterapkan."
      ]
    },
    {
      "cell_type": "markdown",
      "metadata": {
        "id": "we0F4zo9w3Jc"
      },
      "source": [
        "Penjelasan :"
      ]
    },
    {
      "cell_type": "markdown",
      "metadata": {
        "id": "gvvqaG20SvRC"
      },
      "source": [
        "**Langkah 4 - Validasi Hasil**"
      ]
    },
    {
      "cell_type": "code",
      "execution_count": null,
      "metadata": {
        "colab": {
          "base_uri": "https://localhost:8080/"
        },
        "id": "XJ-VhTSfSwfO",
        "outputId": "47483e96-2439-43bf-ebcf-04529ad837df"
      },
      "outputs": [
        {
          "ename": "",
          "evalue": "",
          "output_type": "error",
          "traceback": [
            "\u001b[1;31mRunning cells with 'Python 3.11.1' requires the ipykernel package.\n",
            "\u001b[1;31mRun the following command to install 'ipykernel' into the Python environment. \n",
            "\u001b[1;31mCommand: '\"c:/Users/Andy Nugraha Putra/AppData/Local/Programs/Python/Python311/python.exe\" -m pip install ipykernel -U --user --force-reinstall'"
          ]
        }
      ],
      "source": [
        "# Menghitung jumlah nilai kosong di setiap kolom DataFrame 'df'\n",
        "df.isnull().sum()\n"
      ]
    },
    {
      "cell_type": "markdown",
      "metadata": {
        "id": "odApitA2xWqi"
      },
      "source": [
        "Penjelasan : Kode tersebut menghitung jumlah nilai kosong di setiap kolom dalam DataFrame df dengan menggunakan df.isnull().sum()"
      ]
    },
    {
      "cell_type": "markdown",
      "metadata": {
        "id": "6tBcxCuVxTc3"
      },
      "source": []
    },
    {
      "cell_type": "code",
      "execution_count": null,
      "metadata": {
        "colab": {
          "base_uri": "https://localhost:8080/",
          "height": 363
        },
        "id": "ZZx8xrsWTH3q",
        "outputId": "186e3d9c-0f75-4e6c-8d00-315154177e9a"
      },
      "outputs": [
        {
          "ename": "",
          "evalue": "",
          "output_type": "error",
          "traceback": [
            "\u001b[1;31mRunning cells with 'Python 3.11.1' requires the ipykernel package.\n",
            "\u001b[1;31mRun the following command to install 'ipykernel' into the Python environment. \n",
            "\u001b[1;31mCommand: '\"c:/Users/Andy Nugraha Putra/AppData/Local/Programs/Python/Python311/python.exe\" -m pip install ipykernel -U --user --force-reinstall'"
          ]
        }
      ],
      "source": [
        "\n",
        "df.head(10)\n"
      ]
    },
    {
      "cell_type": "markdown",
      "metadata": {
        "id": "5On-u_pGxcLP"
      },
      "source": [
        "Penjelasan : kode ini Menampilkan 10 baris pertama dari DataFrame 'df'"
      ]
    },
    {
      "cell_type": "markdown",
      "metadata": {
        "id": "nSy-P8pNUIaB"
      },
      "source": [
        "**Praktikum 2**"
      ]
    },
    {
      "cell_type": "markdown",
      "metadata": {
        "id": "9wfmbunhUUYp"
      },
      "source": [
        "**Langkah 0 - Load Library**"
      ]
    },
    {
      "cell_type": "code",
      "execution_count": null,
      "metadata": {
        "id": "42JtXoqrUPkK"
      },
      "outputs": [
        {
          "ename": "",
          "evalue": "",
          "output_type": "error",
          "traceback": [
            "\u001b[1;31mRunning cells with 'Python 3.11.1' requires the ipykernel package.\n",
            "\u001b[1;31mRun the following command to install 'ipykernel' into the Python environment. \n",
            "\u001b[1;31mCommand: '\"c:/Users/Andy Nugraha Putra/AppData/Local/Programs/Python/Python311/python.exe\" -m pip install ipykernel -U --user --force-reinstall'"
          ]
        }
      ],
      "source": [
        "# Mengimpor library pandas untuk manipulasi data\n",
        "import pandas as pd\n",
        "\n",
        "# Mengimpor LabelEncoder dan StandardScaler dari scikit-learn untuk preprocessing data\n",
        "from sklearn.preprocessing import LabelEncoder, StandardScaler\n"
      ]
    },
    {
      "cell_type": "markdown",
      "metadata": {
        "id": "HEdV2gT6xoXU"
      },
      "source": [
        "Penjelasan : Kode tersebut mengimpor `pandas` untuk manipulasi data dan `LabelEncoder` serta `StandardScaler` dari `scikit-learn` untuk preprocessing data."
      ]
    },
    {
      "cell_type": "markdown",
      "metadata": {
        "id": "wLa7ssvhUels"
      },
      "source": [
        "**Langkah 1 - Load Data**"
      ]
    },
    {
      "cell_type": "code",
      "execution_count": null,
      "metadata": {
        "colab": {
          "base_uri": "https://localhost:8080/",
          "height": 206
        },
        "id": "n5lPTKO4UhdM",
        "outputId": "7ff167da-8a27-4f1a-f81e-634add2fdb56"
      },
      "outputs": [
        {
          "ename": "",
          "evalue": "",
          "output_type": "error",
          "traceback": [
            "\u001b[1;31mRunning cells with 'Python 3.11.1' requires the ipykernel package.\n",
            "\u001b[1;31mRun the following command to install 'ipykernel' into the Python environment. \n",
            "\u001b[1;31mCommand: '\"c:/Users/Andy Nugraha Putra/AppData/Local/Programs/Python/Python311/python.exe\" -m pip install ipykernel -U --user --force-reinstall'"
          ]
        }
      ],
      "source": [
        "# Menentukan path ke file CSV yang akan dibaca\n",
        "dpath = 'Titanic-Dataset-fixed.csv'\n",
        "\n",
        "# Membaca file CSV ke dalam DataFrame 'df'\n",
        "df = pd.read_csv(dpath)\n",
        "\n",
        "# Menampilkan 5 baris pertama dari DataFrame 'df'\n",
        "df.head()\n"
      ]
    },
    {
      "cell_type": "markdown",
      "metadata": {
        "id": "O6_62WQNxslr"
      },
      "source": [
        "Penjelasan : Kode tersebut menentukan path ke file CSV dan membacanya ke dalam DataFrame `df`, kemudian menampilkan lima baris pertama dari DataFrame tersebut."
      ]
    },
    {
      "cell_type": "markdown",
      "metadata": {
        "id": "OVYH5cwKU_gT"
      },
      "source": [
        "**Langkah 2 - Slice Data**"
      ]
    },
    {
      "cell_type": "code",
      "execution_count": null,
      "metadata": {
        "colab": {
          "base_uri": "https://localhost:8080/",
          "height": 206
        },
        "id": "bzlbDfTZVBPT",
        "outputId": "81df818d-2f5b-4f6e-e667-1afde3e3ee22"
      },
      "outputs": [
        {
          "ename": "",
          "evalue": "",
          "output_type": "error",
          "traceback": [
            "\u001b[1;31mRunning cells with 'Python 3.11.1' requires the ipykernel package.\n",
            "\u001b[1;31mRun the following command to install 'ipykernel' into the Python environment. \n",
            "\u001b[1;31mCommand: '\"c:/Users/Andy Nugraha Putra/AppData/Local/Programs/Python/Python311/python.exe\" -m pip install ipykernel -U --user --force-reinstall'"
          ]
        }
      ],
      "source": [
        "# Memilih kolom tertentu dari DataFrame 'df' dan menyimpannya kembali ke 'df'\n",
        "df = df[['Survived', 'Pclass', 'Age', 'Sex', 'Cabin']]\n",
        "\n",
        "# Menampilkan 5 baris pertama dari DataFrame 'df' setelah pemilihan kolom\n",
        "df.head()\n"
      ]
    },
    {
      "cell_type": "markdown",
      "metadata": {
        "id": "y0UDWwXBxwQb"
      },
      "source": [
        "Penjelasan : Kode tersebut memilih kolom-kolom tertentu dari DataFrame `df` dan menyimpannya kembali ke `df`. Kemudian, lima baris pertama dari DataFrame yang telah dipilih ditampilkan."
      ]
    },
    {
      "cell_type": "markdown",
      "metadata": {
        "id": "U-m_mFDzVWfR"
      },
      "source": [
        "**Langkah 3 dan Langkah 4   Encoding - Verifikasi Hasil **"
      ]
    },
    {
      "cell_type": "code",
      "execution_count": null,
      "metadata": {
        "colab": {
          "base_uri": "https://localhost:8080/",
          "height": 206
        },
        "id": "qtksl84WVauy",
        "outputId": "9335a1a4-4e94-409e-d904-23681992a4a8"
      },
      "outputs": [
        {
          "ename": "",
          "evalue": "",
          "output_type": "error",
          "traceback": [
            "\u001b[1;31mRunning cells with 'Python 3.11.1' requires the ipykernel package.\n",
            "\u001b[1;31mRun the following command to install 'ipykernel' into the Python environment. \n",
            "\u001b[1;31mCommand: '\"c:/Users/Andy Nugraha Putra/AppData/Local/Programs/Python/Python311/python.exe\" -m pip install ipykernel -U --user --force-reinstall'"
          ]
        }
      ],
      "source": [
        "# Membuat objek dari LabelEncoder untuk mengubah label kategori menjadi numerik\n",
        "le = LabelEncoder()\n",
        "\n",
        "# Mengubah kolom 'Sex' dari format kategori ke format numerik\n",
        "df['Sex'] = le.fit_transform(df['Sex'])\n",
        "\n",
        "# Mengubah kolom 'Cabin' dari format kategori ke format numerik\n",
        "df['Cabin'] = le.fit_transform(df['Cabin'])\n",
        "\n",
        "# Menampilkan 5 baris pertama dari DataFrame 'df' setelah encoding\n",
        "df.head()\n"
      ]
    },
    {
      "cell_type": "markdown",
      "metadata": {
        "id": "jMSQM7Lzx1m_"
      },
      "source": [
        "Penjelasan : Kode tersebut membuat objek `LabelEncoder` untuk mengubah label kategori menjadi numerik. Kolom `Sex` dan `Cabin` dalam DataFrame `df` diubah dari format kategori ke format numerik menggunakan `LabelEncoder`, dan lima baris pertama dari DataFrame yang telah di-encode ditampilkan."
      ]
    },
    {
      "cell_type": "markdown",
      "metadata": {
        "id": "WVfhFeD_VwdW"
      },
      "source": [
        "**Langkah 5 - Standarisasi**"
      ]
    },
    {
      "cell_type": "code",
      "execution_count": null,
      "metadata": {
        "id": "wamO5WBcV-0e"
      },
      "outputs": [
        {
          "ename": "",
          "evalue": "",
          "output_type": "error",
          "traceback": [
            "\u001b[1;31mRunning cells with 'Python 3.11.1' requires the ipykernel package.\n",
            "\u001b[1;31mRun the following command to install 'ipykernel' into the Python environment. \n",
            "\u001b[1;31mCommand: '\"c:/Users/Andy Nugraha Putra/AppData/Local/Programs/Python/Python311/python.exe\" -m pip install ipykernel -U --user --force-reinstall'"
          ]
        }
      ],
      "source": [
        "# Membuat objek dari StandardScaler untuk menstandardisasi fitur\n",
        "std = StandardScaler()\n",
        "\n",
        "# Menstandardisasi kolom 'Age' untuk memiliki mean 0 dan deviasi standar 1\n",
        "# df[['Age']] digunakan untuk memastikan input adalah DataFrame, bukan Series\n",
        "df['Age'] = std.fit_transform(df[['Age']])\n"
      ]
    },
    {
      "cell_type": "markdown",
      "metadata": {
        "id": "M2BcSn-yx7W5"
      },
      "source": [
        "Penjelasan : Kode tersebut membuat objek `StandardScaler` untuk menstandarisasi fitur. Kolom `Age` dalam DataFrame `df` dinyatakan memiliki mean 0 dan deviasi standar 1 setelah proses standarisasi, dengan memastikan input adalah DataFrame menggunakan `df[['Age']]`."
      ]
    },
    {
      "cell_type": "markdown",
      "metadata": {
        "id": "rUMUnek-WIKi"
      },
      "source": [
        "**Langkah 6 - Verifikasi Hasil Standarisasi**"
      ]
    },
    {
      "cell_type": "code",
      "execution_count": null,
      "metadata": {
        "colab": {
          "base_uri": "https://localhost:8080/",
          "height": 206
        },
        "id": "ZV1bWSSkWJzA",
        "outputId": "f0862fd6-291d-4b14-840c-082a78bb9716"
      },
      "outputs": [
        {
          "ename": "",
          "evalue": "",
          "output_type": "error",
          "traceback": [
            "\u001b[1;31mRunning cells with 'Python 3.11.1' requires the ipykernel package.\n",
            "\u001b[1;31mRun the following command to install 'ipykernel' into the Python environment. \n",
            "\u001b[1;31mCommand: '\"c:/Users/Andy Nugraha Putra/AppData/Local/Programs/Python/Python311/python.exe\" -m pip install ipykernel -U --user --force-reinstall'"
          ]
        }
      ],
      "source": [
        "df.head()"
      ]
    },
    {
      "cell_type": "markdown",
      "metadata": {
        "id": "POQBhIvkWV9-"
      },
      "source": [
        "**Praktikum 3**"
      ]
    },
    {
      "cell_type": "markdown",
      "metadata": {
        "id": "fl2knJcMX0BX"
      },
      "source": [
        "***Random Split***"
      ]
    },
    {
      "cell_type": "markdown",
      "metadata": {
        "id": "ABp1XOe_WXvK"
      },
      "source": [
        "**Langkah 1 - Load Data**"
      ]
    },
    {
      "cell_type": "code",
      "execution_count": null,
      "metadata": {
        "colab": {
          "base_uri": "https://localhost:8080/",
          "height": 206
        },
        "id": "j68E5A3jXUI-",
        "outputId": "e1c2bddd-d53e-4c0b-e1d9-5410e28c487b"
      },
      "outputs": [
        {
          "ename": "",
          "evalue": "",
          "output_type": "error",
          "traceback": [
            "\u001b[1;31mRunning cells with 'Python 3.11.1' requires the ipykernel package.\n",
            "\u001b[1;31mRun the following command to install 'ipykernel' into the Python environment. \n",
            "\u001b[1;31mCommand: '\"c:/Users/Andy Nugraha Putra/AppData/Local/Programs/Python/Python311/python.exe\" -m pip install ipykernel -U --user --force-reinstall'"
          ]
        }
      ],
      "source": [
        "# Mengimpor library pandas untuk manipulasi data\n",
        "import pandas as pd\n",
        "\n",
        "# Membaca file CSV dari path 'data/Titanic-Dataset-selected.csv' ke dalam DataFrame 'df'\n",
        "df = pd.read_csv('Titanic-Dataset-selected.csv')\n",
        "\n",
        "# Menampilkan 5 baris pertama dari DataFrame 'df'\n",
        "df.head()\n"
      ]
    },
    {
      "cell_type": "markdown",
      "metadata": {
        "id": "UZKgPXHZXYqO"
      },
      "source": [
        "**Langkah 2 - Split Data**"
      ]
    },
    {
      "cell_type": "code",
      "execution_count": null,
      "metadata": {
        "colab": {
          "base_uri": "https://localhost:8080/"
        },
        "id": "R-QuP5snXcdW",
        "outputId": "af7c732f-1f47-4fdd-ca0f-cef0defca414"
      },
      "outputs": [
        {
          "ename": "",
          "evalue": "",
          "output_type": "error",
          "traceback": [
            "\u001b[1;31mRunning cells with 'Python 3.11.1' requires the ipykernel package.\n",
            "\u001b[1;31mRun the following command to install 'ipykernel' into the Python environment. \n",
            "\u001b[1;31mCommand: '\"c:/Users/Andy Nugraha Putra/AppData/Local/Programs/Python/Python311/python.exe\" -m pip install ipykernel -U --user --force-reinstall'"
          ]
        }
      ],
      "source": [
        "# Split data\n",
        "from sklearn.model_selection import train_test_split\n",
        "\n",
        "# Split data training dan dan lainnya\n",
        "# data lainnya, akan kita split lagi menjadi validasi dan testing.\n",
        "# Rasio yang akan kita gunakan adalah 8:1:1\n",
        "df_train, df_unseen = train_test_split(df, test_size=0.2, random_state=0)\n",
        "\n",
        "# Split lagi antara validasi dan testing\n",
        "df_val, df_test = train_test_split(df_unseen, test_size=0.5, random_state=0)\n",
        "\n",
        "# Cek masing-masing ukuran data\n",
        "\n",
        "print(f'Jumlah data asli: {df.shape[0]}')\n",
        "print(f'Jumlah data train: {df_train.shape[0]}')\n",
        "print(f'Jumlah data val: {df_val.shape[0]}')\n",
        "print(f'Jumlah data test: {df_test.shape[0]}')\n",
        "\n",
        "# Cek rasio tiap label\n",
        "print('=========')\n",
        "print(f'Jumlah label data asli:\\n{df.Survived.value_counts()}')\n",
        "print(f'Jumlah label data train:\\n{df_train.Survived.value_counts()}')\n",
        "print(f'Jumlah label data val:\\n{df_val.Survived.value_counts()}')\n",
        "print(f'Jumlah label data test:\\n{df_test.Survived.value_counts()}')"
      ]
    },
    {
      "cell_type": "markdown",
      "metadata": {
        "id": "OPs2l4BuyHb-"
      },
      "source": [
        "Penjelasan : Kode tersebut membagi DataFrame `df` menjadi tiga subset: data latih (`df_train`), data validasi (`df_val`), dan data uji (`df_test`). Pertama, data dipecah menjadi 80% data latih dan 20% data lainnya. Kemudian, data yang tersisa (20%) dibagi lagi menjadi 50% data validasi dan 50% data uji, menghasilkan rasio 8:1:1 untuk data latih, validasi, dan uji. Setelah itu, ukuran masing-masing subset dan distribusi label `Survived` di setiap subset ditampilkan."
      ]
    },
    {
      "cell_type": "markdown",
      "metadata": {
        "id": "O4bFQpFbZL6D"
      },
      "source": [
        "***Stratified Split***"
      ]
    },
    {
      "cell_type": "markdown",
      "metadata": {
        "id": "lpp63r5CZTN_"
      },
      "source": [
        "**Langkah 1 - Load Data**"
      ]
    },
    {
      "cell_type": "code",
      "execution_count": null,
      "metadata": {
        "colab": {
          "base_uri": "https://localhost:8080/",
          "height": 206
        },
        "id": "KmHqFk8NZY-U",
        "outputId": "d9103f56-c93a-4513-da48-0bca99d3de0b"
      },
      "outputs": [
        {
          "ename": "",
          "evalue": "",
          "output_type": "error",
          "traceback": [
            "\u001b[1;31mRunning cells with 'Python 3.11.1' requires the ipykernel package.\n",
            "\u001b[1;31mRun the following command to install 'ipykernel' into the Python environment. \n",
            "\u001b[1;31mCommand: '\"c:/Users/Andy Nugraha Putra/AppData/Local/Programs/Python/Python311/python.exe\" -m pip install ipykernel -U --user --force-reinstall'"
          ]
        }
      ],
      "source": [
        "# Mengimpor library pandas untuk manipulasi data\n",
        "import pandas as pd\n",
        "\n",
        "# Membaca file CSV dari path 'data/Titanic-Dataset-selected.csv' ke dalam DataFrame 'df'\n",
        "df2 = pd.read_csv('Titanic-Dataset-selected.csv')\n",
        "\n",
        "# Menampilkan 5 baris pertama dari DataFrame 'df'\n",
        "df2.head()"
      ]
    },
    {
      "cell_type": "markdown",
      "metadata": {
        "id": "-ocp2xIeyLWM"
      },
      "source": [
        "Penjelasan : Kode tersebut mengimpor pustaka `pandas` untuk manipulasi data, membaca file CSV dari path `'data/Titanic-Dataset-selected.csv'` ke dalam DataFrame `df2`, dan menampilkan lima baris pertama dari DataFrame tersebut."
      ]
    },
    {
      "cell_type": "markdown",
      "metadata": {
        "id": "8IksKLg8ZcRg"
      },
      "source": [
        "**Langkah 2 - Split Data**"
      ]
    },
    {
      "cell_type": "code",
      "execution_count": null,
      "metadata": {
        "colab": {
          "base_uri": "https://localhost:8080/"
        },
        "id": "5Zfw20K7ZfXQ",
        "outputId": "2d3af9a3-8e5b-40ad-b841-e02d2329c845"
      },
      "outputs": [
        {
          "ename": "",
          "evalue": "",
          "output_type": "error",
          "traceback": [
            "\u001b[1;31mRunning cells with 'Python 3.11.1' requires the ipykernel package.\n",
            "\u001b[1;31mRun the following command to install 'ipykernel' into the Python environment. \n",
            "\u001b[1;31mCommand: '\"c:/Users/Andy Nugraha Putra/AppData/Local/Programs/Python/Python311/python.exe\" -m pip install ipykernel -U --user --force-reinstall'"
          ]
        }
      ],
      "source": [
        "# Split data\n",
        "from sklearn.model_selection import train_test_split\n",
        "\n",
        "# Split data training dan dan lainnya\n",
        "# data lainnya, akan kita split lagi menjadi validasi dan testing.\n",
        "# Rasio yang akan kita gunakan adalah 8:1:1\n",
        "df2_train, df2_unseen = train_test_split(df2, test_size=0.2, random_state=0, stratify=df['Survived'])\n",
        "\n",
        "# Split lagi antara validasi dan testing\n",
        "df2_val, df2_test = train_test_split(df2_unseen, test_size=0.5, random_state=0, stratify=df_unseen['Survived'])\n",
        "\n",
        "# Cek masing-masing ukuran data\n",
        "\n",
        "print(f'Jumlah label data asli:\\n{df2.Survived.value_counts()}')\n",
        "print(f'Jumlah label data train:\\n{df2_train.Survived.value_counts()}')\n",
        "print(f'Jumlah label data val:\\n{df2_val.Survived.value_counts()}')\n",
        "print(f'Jumlah label data test:\\n{df2_test.Survived.value_counts()}')"
      ]
    },
    {
      "cell_type": "markdown",
      "metadata": {
        "id": "lcIPguSPyTqd"
      },
      "source": [
        "Penjelasan : Kode tersebut membagi DataFrame `df2` menjadi tiga subset: data latih (`df2_train`), data validasi (`df2_val`), dan data uji (`df2_test`). Pertama, data dipecah menjadi 80% data latih dan 20% data lainnya, dengan menggunakan stratifikasi berdasarkan label `Survived` untuk menjaga proporsi label di setiap subset. Kemudian, data yang tersisa (20%) dibagi lagi menjadi 50% data validasi dan 50% data uji. Terakhir, jumlah label `Survived` di setiap subset ditampilkan untuk memastikan distribusi yang seimbang."
      ]
    },
    {
      "cell_type": "markdown",
      "metadata": {
        "id": "b6r-53-xX4Rw"
      },
      "source": [
        "***Cross Validation 1***"
      ]
    },
    {
      "cell_type": "markdown",
      "metadata": {
        "id": "5SLpkwMrYDim"
      },
      "source": [
        "**Langkah 1 - Load Data**"
      ]
    },
    {
      "cell_type": "code",
      "execution_count": null,
      "metadata": {
        "colab": {
          "base_uri": "https://localhost:8080/",
          "height": 206
        },
        "id": "0349J9qdYEz4",
        "outputId": "d2c865b7-5a7e-4ba2-8a0d-e5f99737b9f1"
      },
      "outputs": [
        {
          "ename": "",
          "evalue": "",
          "output_type": "error",
          "traceback": [
            "\u001b[1;31mRunning cells with 'Python 3.11.1' requires the ipykernel package.\n",
            "\u001b[1;31mRun the following command to install 'ipykernel' into the Python environment. \n",
            "\u001b[1;31mCommand: '\"c:/Users/Andy Nugraha Putra/AppData/Local/Programs/Python/Python311/python.exe\" -m pip install ipykernel -U --user --force-reinstall'"
          ]
        }
      ],
      "source": [
        "# Mengimpor library pandas untuk manipulasi data\n",
        "import pandas as pd\n",
        "\n",
        "# Membaca file CSV dari path 'data/Titanic-Dataset-selected.csv' ke dalam DataFrame 'df3'\n",
        "df3 = pd.read_csv('Titanic-Dataset-selected.csv')\n",
        "\n",
        "# Menampilkan 5 baris pertama dari DataFrame 'df3'\n",
        "df3.head()\n"
      ]
    },
    {
      "cell_type": "markdown",
      "metadata": {
        "id": "Dt6vU8foY6Dj"
      },
      "source": []
    },
    {
      "cell_type": "markdown",
      "metadata": {
        "id": "6kItqTvrYL8i"
      },
      "source": [
        "**Langkah 2 - Split Data**"
      ]
    },
    {
      "cell_type": "code",
      "execution_count": null,
      "metadata": {
        "colab": {
          "base_uri": "https://localhost:8080/"
        },
        "id": "sWnDLszTYNJa",
        "outputId": "904cd10e-efb0-46eb-a901-196d82bac3be"
      },
      "outputs": [
        {
          "ename": "",
          "evalue": "",
          "output_type": "error",
          "traceback": [
            "\u001b[1;31mRunning cells with 'Python 3.11.1' requires the ipykernel package.\n",
            "\u001b[1;31mRun the following command to install 'ipykernel' into the Python environment. \n",
            "\u001b[1;31mCommand: '\"c:/Users/Andy Nugraha Putra/AppData/Local/Programs/Python/Python311/python.exe\" -m pip install ipykernel -U --user --force-reinstall'"
          ]
        }
      ],
      "source": [
        "# Implementasi k-fold cross validation (random) dengan training dan testing saja\n",
        "from sklearn.model_selection import KFold\n",
        "\n",
        "# inisiasi obyek kfold\n",
        "kf = KFold(n_splits=4)\n",
        "print(f'Jumlah fold: {kf.get_n_splits()}')\n",
        "print(f'Obyek KFold: {kf}')\n",
        "\n",
        "# Lakukan splitting dengan KFold\n",
        "kf_split = kf.split(df3)\n",
        "print(f'Jumlah data df: {df.shape[0]}')\n",
        "\n",
        "# cek index data tiap fold\n",
        "for train_index, test_index in kf_split:\n",
        "    print(f'Index train: {train_index} | Index test: {test_index}')"
      ]
    },
    {
      "cell_type": "markdown",
      "metadata": {
        "id": "iHM9BXmXyfEz"
      },
      "source": [
        "Penjelasan : Kode tersebut menggunakan `KFold` untuk membagi data menjadi 4 lipatan, kemudian menampilkan jumlah lipatan, objek `KFold`, dan indeks data untuk setiap lipatan. Pastikan `df3` sudah didefinisikan sebelumnya."
      ]
    },
    {
      "cell_type": "markdown",
      "metadata": {
        "id": "sYCOaTnjZwl0"
      },
      "source": [
        "***Cross Validation 2***"
      ]
    },
    {
      "cell_type": "markdown",
      "metadata": {
        "id": "-sVghZQdXweb"
      },
      "source": []
    },
    {
      "cell_type": "markdown",
      "metadata": {
        "id": "HlLDZ5TyZ1vv"
      },
      "source": [
        "**Langkah 1 - Load Data**"
      ]
    },
    {
      "cell_type": "code",
      "execution_count": null,
      "metadata": {
        "colab": {
          "base_uri": "https://localhost:8080/",
          "height": 206
        },
        "id": "vEn_8fi7Z3gc",
        "outputId": "ca7f12ac-145a-471a-a00a-22cbf0a5f050"
      },
      "outputs": [
        {
          "ename": "",
          "evalue": "",
          "output_type": "error",
          "traceback": [
            "\u001b[1;31mRunning cells with 'Python 3.11.1' requires the ipykernel package.\n",
            "\u001b[1;31mRun the following command to install 'ipykernel' into the Python environment. \n",
            "\u001b[1;31mCommand: '\"c:/Users/Andy Nugraha Putra/AppData/Local/Programs/Python/Python311/python.exe\" -m pip install ipykernel -U --user --force-reinstall'"
          ]
        }
      ],
      "source": [
        "# Mengimpor library pandas untuk manipulasi data\n",
        "import pandas as pd\n",
        "\n",
        "# Membaca file CSV dari path 'data/Titanic-Dataset-selected.csv' ke dalam DataFrame 'df4'\n",
        "df4 = pd.read_csv('Titanic-Dataset-selected.csv')\n",
        "\n",
        "# Menampilkan 5 baris pertama dari DataFrame 'df4'\n",
        "df4.head()\n"
      ]
    },
    {
      "cell_type": "markdown",
      "metadata": {
        "id": "N_XY4RrdZ7wx"
      },
      "source": [
        "**Langkah 2 - Split Data**"
      ]
    },
    {
      "cell_type": "code",
      "execution_count": null,
      "metadata": {
        "colab": {
          "base_uri": "https://localhost:8080/"
        },
        "id": "FZlbmCeXZ9EE",
        "outputId": "733ed01d-bdf1-4947-8e4a-8d4bdb9654cb"
      },
      "outputs": [
        {
          "ename": "",
          "evalue": "",
          "output_type": "error",
          "traceback": [
            "\u001b[1;31mRunning cells with 'Python 3.11.1' requires the ipykernel package.\n",
            "\u001b[1;31mRun the following command to install 'ipykernel' into the Python environment. \n",
            "\u001b[1;31mCommand: '\"c:/Users/Andy Nugraha Putra/AppData/Local/Programs/Python/Python311/python.exe\" -m pip install ipykernel -U --user --force-reinstall'"
          ]
        }
      ],
      "source": [
        "# Implementasi k-fold cross validation (random) dengan training, validation, dan testing data\n",
        "from sklearn.model_selection import train_test_split, KFold\n",
        "\n",
        "# Split dulu antara data training dan testing dengan train_test_split\n",
        "# Rasio 8:2 untuk training dan testing\n",
        "df4_train, df4_test = train_test_split(df4, test_size=0.2, random_state=0)\n",
        "\n",
        "# inisiasi obyek kfold\n",
        "kf2 = KFold(n_splits=4)\n",
        "print(f'Jumlah fold: {kf2.get_n_splits()}')\n",
        "print(f'Obyek KFold: {kf2}')\n",
        "\n",
        "# Lakukan splitting dengan KFold untuk data df_training\n",
        "# Dengan acara ini, kita masih memiliki data testing untuk keperluan pengujian model\n",
        "# namun tetap dapat melakukan evaluasi dengan menggunakan data validasi\n",
        "kf2_split = kf2.split(df_train)\n",
        "print(f'Jumlah data df_train: {df4_train.shape[0]}')\n",
        "\n",
        "# cek index data tiap fold\n",
        "for train_index, test_index in kf2_split:\n",
        "    print(f'Index train: {train_index} | Index test: {test_index}')"
      ]
    },
    {
      "cell_type": "markdown",
      "metadata": {
        "id": "sQ025K2FykxP"
      },
      "source": [
        "Penjelasan : Kode tersebut membagi data menjadi set latih dan uji, lalu menggunakan `KFold` untuk membagi data latih menjadi 4 lipatan, menampilkan indeks data untuk setiap lipatan."
      ]
    },
    {
      "cell_type": "markdown",
      "metadata": {
        "id": "nHkuH6w2ann1"
      },
      "source": [
        "***Praktikum 4***"
      ]
    },
    {
      "cell_type": "markdown",
      "metadata": {
        "id": "c1JMsPZaa4XM"
      },
      "source": [
        "**Langkah 0 - Instal Library**"
      ]
    },
    {
      "cell_type": "code",
      "execution_count": null,
      "metadata": {
        "colab": {
          "base_uri": "https://localhost:8080/"
        },
        "id": "KmVIIRJJa8Tc",
        "outputId": "60798bd7-ce99-4bc2-c5ef-d09bbc66818c"
      },
      "outputs": [
        {
          "ename": "",
          "evalue": "",
          "output_type": "error",
          "traceback": [
            "\u001b[1;31mRunning cells with 'Python 3.11.1' requires the ipykernel package.\n",
            "\u001b[1;31mRun the following command to install 'ipykernel' into the Python environment. \n",
            "\u001b[1;31mCommand: '\"c:/Users/Andy Nugraha Putra/AppData/Local/Programs/Python/Python311/python.exe\" -m pip install ipykernel -U --user --force-reinstall'"
          ]
        }
      ],
      "source": [
        "!pip install Pillow"
      ]
    },
    {
      "cell_type": "markdown",
      "metadata": {
        "id": "rzo5HXJ9zLPr"
      },
      "source": [
        "Penjelasan : Perintah `!pip install Pillow` digunakan untuk menginstal pustaka Pillow, yang merupakan pustaka Python untuk pemrosesan gambar."
      ]
    },
    {
      "cell_type": "markdown",
      "metadata": {
        "id": "wce5uslda-cv"
      },
      "source": [
        "**Langkah 1 - Load Image**"
      ]
    },
    {
      "cell_type": "code",
      "execution_count": null,
      "metadata": {
        "colab": {
          "base_uri": "https://localhost:8080/",
          "height": 529
        },
        "id": "gbQgh7PmbAMk",
        "outputId": "754f1d55-5b2a-4315-c88d-da9cd7940109"
      },
      "outputs": [
        {
          "ename": "",
          "evalue": "",
          "output_type": "error",
          "traceback": [
            "\u001b[1;31mRunning cells with 'Python 3.11.1' requires the ipykernel package.\n",
            "\u001b[1;31mRun the following command to install 'ipykernel' into the Python environment. \n",
            "\u001b[1;31mCommand: '\"c:/Users/Andy Nugraha Putra/AppData/Local/Programs/Python/Python311/python.exe\" -m pip install ipykernel -U --user --force-reinstall'"
          ]
        }
      ],
      "source": [
        "from PIL import Image\n",
        "\n",
        "img = Image.open('Lenna.png')\n",
        "img.show() # tampilkan gambar\n",
        "display(img) # metode alternatif tampilkan gambar"
      ]
    },
    {
      "cell_type": "markdown",
      "metadata": {
        "id": "yW7VKZZjzQga"
      },
      "source": [
        "Penjelasan : Kode tersebut membuka dan menampilkan gambar `'Lenna.png'` menggunakan metode `img.show()` dan `display(img)` (dengan `display` sering digunakan di notebook)."
      ]
    },
    {
      "cell_type": "markdown",
      "metadata": {
        "id": "g57NxuqYbF-2"
      },
      "source": [
        "**Langkah 2 - Ekstrak Fitur**"
      ]
    },
    {
      "cell_type": "code",
      "execution_count": null,
      "metadata": {
        "colab": {
          "base_uri": "https://localhost:8080/"
        },
        "id": "6dWnznpsbG5Z",
        "outputId": "60ee0c26-4fcc-42e9-99c6-465f47cb4737"
      },
      "outputs": [
        {
          "ename": "",
          "evalue": "",
          "output_type": "error",
          "traceback": [
            "\u001b[1;31mRunning cells with 'Python 3.11.1' requires the ipykernel package.\n",
            "\u001b[1;31mRun the following command to install 'ipykernel' into the Python environment. \n",
            "\u001b[1;31mCommand: '\"c:/Users/Andy Nugraha Putra/AppData/Local/Programs/Python/Python311/python.exe\" -m pip install ipykernel -U --user --force-reinstall'"
          ]
        }
      ],
      "source": [
        "# Ekstrak setiap channel red, green, blue\n",
        "r, g, b = img.split()\n",
        "\n",
        "# Cek panjang ukuran channel red\n",
        "print(len(r.histogram()))\n",
        "\n",
        "# Cetak fitur histogram pada channel red\n",
        "print(r.histogram())"
      ]
    },
    {
      "cell_type": "markdown",
      "metadata": {
        "id": "ObKpQXK2zTvK"
      },
      "source": [
        "Penjelasan : Kode tersebut mengekstrak channel merah, hijau, dan biru dari gambar, lalu menampilkan panjang dan histogram dari channel merah."
      ]
    },
    {
      "cell_type": "markdown",
      "metadata": {
        "id": "Wh35DoE-bmUP"
      },
      "source": [
        "**Tugas Praktikum**"
      ]
    },
    {
      "cell_type": "markdown",
      "metadata": {
        "id": "G7kQH0aAl6qs"
      },
      "source": [
        "**Deskripsi Tugas\n",
        "\n",
        "Pada tugas pratikum ini Anda akan menggunakan data \"Wisconsin Breast Cancer\". Data tersebut terdiri dari 569 data yang digunakan untuk mendiagnonis jenis kanker Malignant (M) dan Benign (B). Tugas Anda adalah,\n",
        "\n",
        "    1. Pisahkan antara variabel yang dapat digunakan dan variabel yang tidak dapat digunakan.\n",
        "\n",
        "    2. Lakukan proses encoding pada kolom \"diagnosis\".\n",
        "\n",
        "    3. Lakukan proses standarisasi pada semua kolom yang memiliki nilai numerik.\n",
        "\n",
        "    4. Lakukan proses stratified split data untuk membuat data latih dan data uji dengan rasio 80:20.**"
      ]
    },
    {
      "cell_type": "code",
      "execution_count": null,
      "metadata": {
        "colab": {
          "base_uri": "https://localhost:8080/",
          "height": 273
        },
        "id": "zWoeeF-Jl_Tj",
        "outputId": "860ebc31-bf8e-438f-c2e1-50e0eaf2c1cf"
      },
      "outputs": [
        {
          "ename": "",
          "evalue": "",
          "output_type": "error",
          "traceback": [
            "\u001b[1;31mRunning cells with 'Python 3.11.1' requires the ipykernel package.\n",
            "\u001b[1;31mRun the following command to install 'ipykernel' into the Python environment. \n",
            "\u001b[1;31mCommand: '\"c:/Users/Andy Nugraha Putra/AppData/Local/Programs/Python/Python311/python.exe\" -m pip install ipykernel -U --user --force-reinstall'"
          ]
        }
      ],
      "source": [
        "# 1 Pisahkan antara variabel yang dapat digunakan dan variabel yang tidak dapat digunakan.\n",
        "import pandas as pd\n",
        "from sklearn.preprocessing import LabelEncoder, StandardScaler\n",
        "\n",
        "df = pd.read_csv('wbc.csv')\n",
        "df = df.drop(columns=['id', 'Unnamed: 32'])\n",
        "df.head()\n"
      ]
    },
    {
      "cell_type": "markdown",
      "metadata": {
        "id": "ixasYYv4zhRy"
      },
      "source": [
        "Penjelasan : Kode tersebut mengimpor pustaka `pandas`, `LabelEncoder`, dan `StandardScaler`. Kemudian, kode membaca file CSV `'wbc.csv'` ke dalam DataFrame `df`, menghapus kolom yang tidak diperlukan (`'id'` dan `'Unnamed: 32'`), dan menampilkan lima baris pertama dari DataFrame."
      ]
    },
    {
      "cell_type": "code",
      "execution_count": null,
      "metadata": {
        "colab": {
          "base_uri": "https://localhost:8080/",
          "height": 206
        },
        "id": "FBO78Q9FmG0X",
        "outputId": "1ff3477c-fdc9-486c-e5a3-681c4744bb00"
      },
      "outputs": [
        {
          "ename": "",
          "evalue": "",
          "output_type": "error",
          "traceback": [
            "\u001b[1;31mRunning cells with 'Python 3.11.1' requires the ipykernel package.\n",
            "\u001b[1;31mRun the following command to install 'ipykernel' into the Python environment. \n",
            "\u001b[1;31mCommand: '\"c:/Users/Andy Nugraha Putra/AppData/Local/Programs/Python/Python311/python.exe\" -m pip install ipykernel -U --user --force-reinstall'"
          ]
        }
      ],
      "source": [
        "# 2. Lakukan proses encoding pada kolom \"diagnosis\".\n",
        "le = LabelEncoder() # membuat objek dari LabelEncoder\n",
        "df['diagnosis'] = le.fit_transform(df['diagnosis']) # proses encoding\n",
        "\n",
        "df.head()\n"
      ]
    },
    {
      "cell_type": "markdown",
      "metadata": {
        "id": "Eq_bFcw6zn-h"
      },
      "source": [
        "Penjelasan : Kode tersebut membuat objek `LabelEncoder`, lalu mengubah nilai di kolom `diagnosis` dari format kategori menjadi numerik dengan `fit_transform()`. Setelah encoding, lima baris pertama dari DataFrame ditampilkan."
      ]
    },
    {
      "cell_type": "code",
      "execution_count": null,
      "metadata": {
        "colab": {
          "base_uri": "https://localhost:8080/",
          "height": 206
        },
        "id": "QsmAa5HgmNax",
        "outputId": "553cedbe-352b-491c-b5fa-fe6746529109"
      },
      "outputs": [
        {
          "ename": "",
          "evalue": "",
          "output_type": "error",
          "traceback": [
            "\u001b[1;31mRunning cells with 'Python 3.11.1' requires the ipykernel package.\n",
            "\u001b[1;31mRun the following command to install 'ipykernel' into the Python environment. \n",
            "\u001b[1;31mCommand: '\"c:/Users/Andy Nugraha Putra/AppData/Local/Programs/Python/Python311/python.exe\" -m pip install ipykernel -U --user --force-reinstall'"
          ]
        }
      ],
      "source": [
        "# 3. Lakukan proses standarisasi pada semua kolom yang memiliki nilai numerik.\n",
        "std = StandardScaler()\n",
        "df['diagnosis'] = std.fit_transform(df[['diagnosis']])\n",
        "df['radius_mean'] = std.fit_transform(df[['radius_mean']])\n",
        "df['texture_mean'] = std.fit_transform(df[['texture_mean']])\n",
        "df['perimeter_mean'] = std.fit_transform(df[['perimeter_mean']])\n",
        "df['area_mean'] = std.fit_transform(df[['area_mean']])\n",
        "\n",
        "df.head()\n"
      ]
    },
    {
      "cell_type": "markdown",
      "metadata": {
        "id": "eWTYxGR4ztdS"
      },
      "source": [
        "Penjelasaan : Kode tersebut membuat objek `StandardScaler`, lalu menstandarisasi kolom `diagnosis`, `radius_mean`, `texture_mean`, `perimeter_mean`, dan `area_mean` di DataFrame `df` sehingga setiap kolom memiliki mean 0 dan deviasi standar 1. Setelah standarisasi, lima baris pertama dari DataFrame ditampilkan."
      ]
    },
    {
      "cell_type": "code",
      "execution_count": null,
      "metadata": {
        "colab": {
          "base_uri": "https://localhost:8080/"
        },
        "id": "pj9816_UmRTr",
        "outputId": "1b054b99-80dc-4f6d-e78e-2f43de4a3bd5"
      },
      "outputs": [
        {
          "ename": "",
          "evalue": "",
          "output_type": "error",
          "traceback": [
            "\u001b[1;31mRunning cells with 'Python 3.11.1' requires the ipykernel package.\n",
            "\u001b[1;31mRun the following command to install 'ipykernel' into the Python environment. \n",
            "\u001b[1;31mCommand: '\"c:/Users/Andy Nugraha Putra/AppData/Local/Programs/Python/Python311/python.exe\" -m pip install ipykernel -U --user --force-reinstall'"
          ]
        }
      ],
      "source": [
        "# 4. Lakukan proses stratified split data untuk membuat data latih dan data uji dengan rasio 80:20.\n",
        "# Split data\n",
        "from sklearn.model_selection import train_test_split\n",
        "\n",
        "# Split data training dan dan lainnya\n",
        "# data lainnya, akan kita split lagi menjadi validasi dan testing.\n",
        "# Rasio yang akan kita gunakan adalah 8:2\n",
        "df_train, df_unseen = train_test_split(df, test_size=0.2, random_state=0, stratify=df['diagnosis'])\n",
        "\n",
        "# Split lagi antara validasi dan testing\n",
        "df_val, df_test = train_test_split(df_unseen, test_size=0.5, random_state=0, stratify=df_unseen['diagnosis'])\n",
        "\n",
        "# Cek masing-masing ukuran data\n",
        "\n",
        "print(f'Jumlah label data asli:\\n{df.diagnosis.value_counts()}')\n",
        "print(f'Jumlah label data train:\\n{df_train.diagnosis.value_counts()}')\n",
        "print(f'Jumlah label data val:\\n{df_val.diagnosis.value_counts()}')\n",
        "print(f'Jumlah label data test:\\n{df_test.diagnosis.value_counts()}')\n"
      ]
    },
    {
      "cell_type": "markdown",
      "metadata": {
        "id": "YU_olvc8z0wD"
      },
      "source": [
        "Penjelasan : Kode tersebut membagi DataFrame `df` menjadi data latih (`df_train`), data validasi (`df_val`), dan data uji (`df_test`). Pertama, data dipecah menjadi 80% data latih dan 20% data yang akan dipecah lebih lanjut. Kemudian, data yang tersisa dibagi lagi menjadi 50% data validasi dan 50% data uji. Distribusi label `diagnosis` di setiap subset ditampilkan untuk memeriksa keseimbangan data."
      ]
    }
  ],
  "metadata": {
    "colab": {
      "provenance": []
    },
    "kernelspec": {
      "display_name": "Python 3",
      "name": "python3"
    },
    "language_info": {
      "name": "python",
      "version": "3.11.1"
    }
  },
  "nbformat": 4,
  "nbformat_minor": 0
}
